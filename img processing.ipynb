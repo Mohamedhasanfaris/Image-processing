{
 "cells": [
  {
   "cell_type": "markdown",
   "id": "ba54c1ca",
   "metadata": {},
   "source": [
    "# Arithmetic Operations"
   ]
  },
  {
   "cell_type": "code",
   "execution_count": 1,
   "id": "030c51fa",
   "metadata": {},
   "outputs": [],
   "source": [
    "import cv2\n",
    "import numpy as np"
   ]
  },
  {
   "cell_type": "code",
   "execution_count": 2,
   "id": "86ad8f0d",
   "metadata": {},
   "outputs": [],
   "source": [
    "img1=cv2.imread(\"1.png\")\n",
    "img2=cv2.imread(\"2.png\")\n",
    "img3=cv2.imread(\"3.png\")"
   ]
  },
  {
   "cell_type": "code",
   "execution_count": 3,
   "id": "ce740a36",
   "metadata": {},
   "outputs": [],
   "source": [
    "cv2.imshow(\"red\",img1)\n",
    "cv2.waitKey(0)\n",
    "cv2.imshow(\"circle\",img2)\n",
    "cv2.waitKey(0)\n",
    "cv2.imshow(\"heart\",img3)\n",
    "cv2.waitKey(0)\n",
    "cv2.destroyAllWindows()"
   ]
  },
  {
   "cell_type": "markdown",
   "id": "72814c45",
   "metadata": {},
   "source": [
    "# Addition"
   ]
  },
  {
   "cell_type": "code",
   "execution_count": 4,
   "id": "be423eb3",
   "metadata": {},
   "outputs": [],
   "source": [
    "imgAdd = cv2.addWeighted(img1,0.5,img2,0.5,1)"
   ]
  },
  {
   "cell_type": "code",
   "execution_count": 5,
   "id": "17dd7247",
   "metadata": {},
   "outputs": [],
   "source": [
    "cv2.imshow(\"red\",img1)\n",
    "cv2.waitKey(0)\n",
    "cv2.imshow(\"circle\",img2)\n",
    "cv2.waitKey(0)\n",
    "cv2.imshow(\"1,2 add\",imgAdd)\n",
    "cv2.waitKey(0)\n",
    "cv2.destroyAllWindows()"
   ]
  },
  {
   "cell_type": "markdown",
   "id": "dd2308ee",
   "metadata": {},
   "source": [
    "# Subtraction"
   ]
  },
  {
   "cell_type": "code",
   "execution_count": 6,
   "id": "c0842ab1",
   "metadata": {},
   "outputs": [],
   "source": [
    "imgSub = cv2.subtract(img1,img3)"
   ]
  },
  {
   "cell_type": "code",
   "execution_count": 7,
   "id": "2052daeb",
   "metadata": {},
   "outputs": [],
   "source": [
    "cv2.imshow(\"red\",img1)\n",
    "cv2.waitKey(0)\n",
    "cv2.imshow(\"heart\",img3)\n",
    "cv2.waitKey(0)\n",
    "cv2.imshow(\"Img Sub\",imgSub)\n",
    "cv2.waitKey(0)\n",
    "cv2.destroyAllWindows()"
   ]
  },
  {
   "cell_type": "markdown",
   "id": "42a94f17",
   "metadata": {},
   "source": [
    "# Bitwise Operators"
   ]
  },
  {
   "cell_type": "code",
   "execution_count": 8,
   "id": "b410fbbc",
   "metadata": {},
   "outputs": [],
   "source": [
    "imgAnd = cv2.bitwise_and(img2,img3,mask=None)"
   ]
  },
  {
   "cell_type": "code",
   "execution_count": 9,
   "id": "4152226e",
   "metadata": {},
   "outputs": [],
   "source": [
    "cv2.imshow(\"Circle\",img2)\n",
    "cv2.waitKey(0)\n",
    "cv2.imshow(\"heart\",img3)\n",
    "cv2.waitKey(0)\n",
    "cv2.imshow(\"Img AND\",imgAnd)\n",
    "cv2.waitKey(0)\n",
    "cv2.destroyAllWindows()"
   ]
  },
  {
   "cell_type": "code",
   "execution_count": 10,
   "id": "b753cebb",
   "metadata": {},
   "outputs": [],
   "source": [
    "imgOr = cv2.bitwise_or(img2,img3,mask=None)"
   ]
  },
  {
   "cell_type": "code",
   "execution_count": 11,
   "id": "1f870e24",
   "metadata": {},
   "outputs": [],
   "source": [
    "cv2.imshow(\"Circle\",img2)\n",
    "cv2.waitKey(0)\n",
    "cv2.imshow(\"heart\",img3)\n",
    "cv2.waitKey(0)\n",
    "cv2.imshow(\"Img OR\",imgOr)\n",
    "cv2.waitKey(0)\n",
    "cv2.destroyAllWindows()"
   ]
  },
  {
   "cell_type": "code",
   "execution_count": 12,
   "id": "0f21b2d5",
   "metadata": {},
   "outputs": [],
   "source": [
    "imgNot = cv2.bitwise_not(img3,mask=None)"
   ]
  },
  {
   "cell_type": "code",
   "execution_count": 13,
   "id": "581b7d9a",
   "metadata": {},
   "outputs": [],
   "source": [
    "cv2.imshow(\"heart\",img3)\n",
    "cv2.waitKey(0)\n",
    "cv2.imshow(\"Img NOT\",imgNot)\n",
    "cv2.waitKey(0)\n",
    "cv2.destroyAllWindows()"
   ]
  },
  {
   "cell_type": "code",
   "execution_count": 14,
   "id": "5cf621e1",
   "metadata": {},
   "outputs": [],
   "source": [
    "imgXor = cv2.bitwise_xor(img1,img3,mask=None)"
   ]
  },
  {
   "cell_type": "code",
   "execution_count": 15,
   "id": "fec83a29",
   "metadata": {},
   "outputs": [],
   "source": [
    "cv2.imshow(\"red\",img1)\n",
    "cv2.waitKey(0)\n",
    "cv2.imshow(\"heart\",img3)\n",
    "cv2.waitKey(0)\n",
    "cv2.imshow(\"Img Xor\",imgXor)\n",
    "cv2.waitKey(0)\n",
    "cv2.destroyAllWindows()"
   ]
  },
  {
   "cell_type": "markdown",
   "id": "4974d9d8",
   "metadata": {},
   "source": [
    "# (ROI) Region Of Intrest"
   ]
  },
  {
   "cell_type": "code",
   "execution_count": 16,
   "id": "391a8913",
   "metadata": {},
   "outputs": [],
   "source": [
    "img4=cv2.imread(\"paint.png\")"
   ]
  },
  {
   "cell_type": "code",
   "execution_count": 17,
   "id": "a1b03dac",
   "metadata": {},
   "outputs": [
    {
     "name": "stdout",
     "output_type": "stream",
     "text": [
      "(65, 116, 3)\n"
     ]
    }
   ],
   "source": [
    "shp=img4.shape\n",
    "print(shp)"
   ]
  },
  {
   "cell_type": "code",
   "execution_count": 18,
   "id": "50edfa3b",
   "metadata": {},
   "outputs": [
    {
     "data": {
      "text/plain": [
       "-1"
      ]
     },
     "execution_count": 18,
     "metadata": {},
     "output_type": "execute_result"
    }
   ],
   "source": [
    "cv2.imshow(\"Img 4\",img4)\n",
    "cv2.waitKey(0)"
   ]
  },
  {
   "cell_type": "code",
   "execution_count": 19,
   "id": "f4f3ddfc",
   "metadata": {},
   "outputs": [],
   "source": [
    "roi=img4[0:30,0:95]"
   ]
  },
  {
   "cell_type": "code",
   "execution_count": 20,
   "id": "2855404b",
   "metadata": {},
   "outputs": [],
   "source": [
    "cv2.imshow(\"ROI\",roi)\n",
    "cv2.waitKey(0)\n",
    "cv2.destroyAllWindows()"
   ]
  },
  {
   "cell_type": "code",
   "execution_count": 21,
   "id": "c64c213e",
   "metadata": {},
   "outputs": [
    {
     "data": {
      "text/plain": [
       "True"
      ]
     },
     "execution_count": 21,
     "metadata": {},
     "output_type": "execute_result"
    }
   ],
   "source": [
    "cv2.imwrite(\"ROI.png\",roi)"
   ]
  },
  {
   "cell_type": "markdown",
   "id": "f42998f1",
   "metadata": {},
   "source": [
    "# image manupulation"
   ]
  },
  {
   "cell_type": "code",
   "execution_count": 22,
   "id": "f5cf181d",
   "metadata": {},
   "outputs": [],
   "source": [
    "flags = [i for i in dir(cv2) if i.startswith('color_')]"
   ]
  },
  {
   "cell_type": "code",
   "execution_count": 23,
   "id": "6275da26",
   "metadata": {},
   "outputs": [
    {
     "name": "stdout",
     "output_type": "stream",
     "text": [
      "[]\n"
     ]
    }
   ],
   "source": [
    "print(flags)"
   ]
  },
  {
   "cell_type": "code",
   "execution_count": null,
   "id": "f55e289d",
   "metadata": {},
   "outputs": [],
   "source": []
  }
 ],
 "metadata": {
  "kernelspec": {
   "display_name": "Python 3 (ipykernel)",
   "language": "python",
   "name": "python3"
  },
  "language_info": {
   "codemirror_mode": {
    "name": "ipython",
    "version": 3
   },
   "file_extension": ".py",
   "mimetype": "text/x-python",
   "name": "python",
   "nbconvert_exporter": "python",
   "pygments_lexer": "ipython3",
   "version": "3.9.16"
  }
 },
 "nbformat": 4,
 "nbformat_minor": 5
}
