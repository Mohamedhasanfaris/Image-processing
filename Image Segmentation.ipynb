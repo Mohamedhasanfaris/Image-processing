{
 "cells": [
  {
   "cell_type": "code",
   "execution_count": 1,
   "id": "ae66d110",
   "metadata": {},
   "outputs": [],
   "source": [
    "import cv2\n",
    "import numpy as np"
   ]
  },
  {
   "cell_type": "code",
   "execution_count": 2,
   "id": "a8b07290",
   "metadata": {},
   "outputs": [
    {
     "data": {
      "text/plain": [
       "-1"
      ]
     },
     "execution_count": 2,
     "metadata": {},
     "output_type": "execute_result"
    }
   ],
   "source": [
    "img = cv2.imread(\"New-York.jpg\")\n",
    "cv2.imshow(\"original\",img)\n",
    "cv2.waitKey(0)"
   ]
  },
  {
   "cell_type": "code",
   "execution_count": 3,
   "id": "230c4fe9",
   "metadata": {},
   "outputs": [],
   "source": [
    "# RGB Conversion\n",
    "imgrgb = cv2.cvtColor(img,cv2.COLOR_BGR2RGB) "
   ]
  },
  {
   "cell_type": "code",
   "execution_count": 4,
   "id": "1f0c694e",
   "metadata": {},
   "outputs": [],
   "source": [
    "# Reshape\n",
    "vec = imgrgb.reshape((-1,3))"
   ]
  },
  {
   "cell_type": "code",
   "execution_count": 5,
   "id": "98ba7fb6",
   "metadata": {},
   "outputs": [],
   "source": [
    "# Float Conversion\n",
    "vec = np.float32(vec)"
   ]
  },
  {
   "cell_type": "code",
   "execution_count": 6,
   "id": "6889838f",
   "metadata": {},
   "outputs": [],
   "source": [
    "# Iteration Termination Criteria\n",
    "criteria = (cv2.TERM_CRITERIA_EPS + cv2.TERM_CRITERIA_MAX_ITER, 50,0.85)"
   ]
  },
  {
   "cell_type": "code",
   "execution_count": 7,
   "id": "cf2f82cb",
   "metadata": {},
   "outputs": [],
   "source": [
    "# Cluster Conditions\n",
    "k = 6\n",
    "attempts = 30"
   ]
  },
  {
   "cell_type": "code",
   "execution_count": 8,
   "id": "de4b34b6",
   "metadata": {},
   "outputs": [],
   "source": [
    "# K-Means Clustering\n",
    "ret,label,center = cv2.kmeans(vec,k,None,criteria,attempts,cv2.KMEANS_PP_CENTERS)"
   ]
  },
  {
   "cell_type": "code",
   "execution_count": 9,
   "id": "014766df",
   "metadata": {},
   "outputs": [],
   "source": [
    "# Unit Conversion\n",
    "center = np.uint8(center)"
   ]
  },
  {
   "cell_type": "code",
   "execution_count": 10,
   "id": "0ef0e215",
   "metadata": {},
   "outputs": [],
   "source": [
    "# Flattening and Reshape\n",
    "res = center[label.flatten()]\n",
    "res_img = res.reshape((imgrgb.shape))"
   ]
  },
  {
   "cell_type": "code",
   "execution_count": 11,
   "id": "99a53423",
   "metadata": {},
   "outputs": [],
   "source": [
    "# Original & Segmented Image\n",
    "cv2.imshow(\"original\",img)\n",
    "cv2.imshow(\"segmented\",res_img)\n",
    "\n",
    "if cv2.waitKey(0) & 0xff == 27:\n",
    "    cv2.destroyAllWindows()"
   ]
  }
 ],
 "metadata": {
  "kernelspec": {
   "display_name": "Python 3 (ipykernel)",
   "language": "python",
   "name": "python3"
  },
  "language_info": {
   "codemirror_mode": {
    "name": "ipython",
    "version": 3
   },
   "file_extension": ".py",
   "mimetype": "text/x-python",
   "name": "python",
   "nbconvert_exporter": "python",
   "pygments_lexer": "ipython3",
   "version": "3.9.16"
  }
 },
 "nbformat": 4,
 "nbformat_minor": 5
}
