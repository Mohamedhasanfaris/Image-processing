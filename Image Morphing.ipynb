{
 "cells": [
  {
   "cell_type": "code",
   "execution_count": 1,
   "id": "751bdb80",
   "metadata": {},
   "outputs": [],
   "source": [
    "import cv2\n",
    "import numpy as np"
   ]
  },
  {
   "cell_type": "code",
   "execution_count": 2,
   "id": "6b75dfca",
   "metadata": {},
   "outputs": [],
   "source": [
    "img=cv2.imread(\"Spiderman's.jpg\")"
   ]
  },
  {
   "cell_type": "code",
   "execution_count": 3,
   "id": "1da2345a",
   "metadata": {},
   "outputs": [],
   "source": [
    "kernel = np.ones((3,3),np.uint8)"
   ]
  },
  {
   "cell_type": "markdown",
   "id": "46a89391",
   "metadata": {},
   "source": [
    "## Erosion"
   ]
  },
  {
   "cell_type": "code",
   "execution_count": 4,
   "id": "53276311",
   "metadata": {},
   "outputs": [],
   "source": [
    "erosion = cv2.erode(img,kernel,iterations=7)"
   ]
  },
  {
   "cell_type": "code",
   "execution_count": 5,
   "id": "72ea0744",
   "metadata": {},
   "outputs": [
    {
     "data": {
      "text/plain": [
       "-1"
      ]
     },
     "execution_count": 5,
     "metadata": {},
     "output_type": "execute_result"
    }
   ],
   "source": [
    "cv2.imshow(\"original\",img)\n",
    "cv2.waitKey(0)\n",
    "cv2.imshow(\"erosion\",erosion)\n",
    "cv2.waitKey(0)"
   ]
  },
  {
   "cell_type": "markdown",
   "id": "371218aa",
   "metadata": {},
   "source": [
    "## Dilation"
   ]
  },
  {
   "cell_type": "code",
   "execution_count": 6,
   "id": "f79ed437",
   "metadata": {},
   "outputs": [],
   "source": [
    "dilation = cv2.dilate(img,kernel,iterations=3)"
   ]
  },
  {
   "cell_type": "code",
   "execution_count": 7,
   "id": "21d06f46",
   "metadata": {},
   "outputs": [
    {
     "data": {
      "text/plain": [
       "-1"
      ]
     },
     "execution_count": 7,
     "metadata": {},
     "output_type": "execute_result"
    }
   ],
   "source": [
    "cv2.imshow(\"original\",img)\n",
    "cv2.waitKey(0)\n",
    "cv2.imshow(\"dilation\",dilation)\n",
    "cv2.waitKey(0)"
   ]
  },
  {
   "cell_type": "markdown",
   "id": "af2e1b90",
   "metadata": {},
   "source": [
    "## Morphological Opening-Erosion Followed By Dilation"
   ]
  },
  {
   "cell_type": "code",
   "execution_count": 8,
   "id": "c9700705",
   "metadata": {},
   "outputs": [],
   "source": [
    "open = cv2.morphologyEx(img, cv2.MORPH_OPEN, kernel)"
   ]
  },
  {
   "cell_type": "code",
   "execution_count": 9,
   "id": "943d98f9",
   "metadata": {},
   "outputs": [
    {
     "data": {
      "text/plain": [
       "-1"
      ]
     },
     "execution_count": 9,
     "metadata": {},
     "output_type": "execute_result"
    }
   ],
   "source": [
    "cv2.imshow(\"original\",img)\n",
    "cv2.waitKey(0)\n",
    "cv2.imshow(\"Morph_open\",open)\n",
    "cv2.waitKey(0)"
   ]
  },
  {
   "cell_type": "markdown",
   "id": "1630167c",
   "metadata": {},
   "source": [
    "## Morphological Closing-Dilation Followed By Erosion"
   ]
  },
  {
   "cell_type": "code",
   "execution_count": 10,
   "id": "429d12c5",
   "metadata": {},
   "outputs": [],
   "source": [
    "close = cv2.morphologyEx(img,cv2.MORPH_CLOSE, kernel)"
   ]
  },
  {
   "cell_type": "code",
   "execution_count": 11,
   "id": "f4aa0b1d",
   "metadata": {},
   "outputs": [
    {
     "data": {
      "text/plain": [
       "-1"
      ]
     },
     "execution_count": 11,
     "metadata": {},
     "output_type": "execute_result"
    }
   ],
   "source": [
    "cv2.imshow(\"original\",img)\n",
    "cv2.waitKey(0)\n",
    "cv2.imshow(\"Morph_Close\",close)\n",
    "cv2.waitKey(0)"
   ]
  },
  {
   "cell_type": "code",
   "execution_count": 12,
   "id": "66317b82",
   "metadata": {},
   "outputs": [
    {
     "data": {
      "text/plain": [
       "-1"
      ]
     },
     "execution_count": 12,
     "metadata": {},
     "output_type": "execute_result"
    }
   ],
   "source": [
    "# display morphology open and morphology close\n",
    "cv2.imshow(\"original\",img)\n",
    "cv2.imshow(\"Morph_Open\",open)\n",
    "cv2.imshow(\"Morph_Close\",close)\n",
    "cv2.waitKey(0)"
   ]
  },
  {
   "cell_type": "markdown",
   "id": "740b7bf8",
   "metadata": {},
   "source": [
    "## Morphological Gradient - Dilation,Erosion,Difference Of Both"
   ]
  },
  {
   "cell_type": "code",
   "execution_count": 13,
   "id": "9ca99b3a",
   "metadata": {},
   "outputs": [],
   "source": [
    "gradient = cv2.morphologyEx(img,cv2.MORPH_GRADIENT, kernel)"
   ]
  },
  {
   "cell_type": "code",
   "execution_count": 14,
   "id": "6bd195d0",
   "metadata": {},
   "outputs": [
    {
     "data": {
      "text/plain": [
       "-1"
      ]
     },
     "execution_count": 14,
     "metadata": {},
     "output_type": "execute_result"
    }
   ],
   "source": [
    "cv2.imshow(\"original\",img)\n",
    "cv2.waitKey(0)\n",
    "cv2.imshow(\"Morph Gradient\",gradient)\n",
    "cv2.waitKey(0)"
   ]
  },
  {
   "cell_type": "code",
   "execution_count": 15,
   "id": "710ff9c4",
   "metadata": {},
   "outputs": [
    {
     "data": {
      "text/plain": [
       "True"
      ]
     },
     "execution_count": 15,
     "metadata": {},
     "output_type": "execute_result"
    }
   ],
   "source": [
    "cv2.imwrite(\"C:/Users/aedpu/HASAN_CSE_AI/used img/morph_grad.jpg\",gradient)"
   ]
  },
  {
   "cell_type": "markdown",
   "id": "c68f2670",
   "metadata": {},
   "source": [
    "## Top Hat - Opening And Difference Of Original And Opening"
   ]
  },
  {
   "cell_type": "code",
   "execution_count": 16,
   "id": "f7208477",
   "metadata": {},
   "outputs": [],
   "source": [
    "tophat = cv2.morphologyEx(img,cv2.MORPH_TOPHAT, kernel)"
   ]
  },
  {
   "cell_type": "code",
   "execution_count": 17,
   "id": "0ce646d8",
   "metadata": {},
   "outputs": [
    {
     "data": {
      "text/plain": [
       "-1"
      ]
     },
     "execution_count": 17,
     "metadata": {},
     "output_type": "execute_result"
    }
   ],
   "source": [
    "cv2.imshow(\"original\",img)\n",
    "cv2.waitKey(0)\n",
    "cv2.imshow(\"Top Hat\",tophat)\n",
    "cv2.waitKey(0)"
   ]
  },
  {
   "cell_type": "code",
   "execution_count": 18,
   "id": "6ddd0a8d",
   "metadata": {},
   "outputs": [
    {
     "data": {
      "text/plain": [
       "True"
      ]
     },
     "execution_count": 18,
     "metadata": {},
     "output_type": "execute_result"
    }
   ],
   "source": [
    "cv2.imwrite(\"C:/Users/aedpu/HASAN_CSE_AI/used img/tophat.jpg\",tophat)"
   ]
  },
  {
   "cell_type": "markdown",
   "id": "864001ef",
   "metadata": {},
   "source": [
    "## Black Hat - Opposite Of Top Hat"
   ]
  },
  {
   "cell_type": "code",
   "execution_count": 19,
   "id": "a1270ee1",
   "metadata": {},
   "outputs": [],
   "source": [
    "blackhat = cv2.morphologyEx(img,cv2.MORPH_BLACKHAT, kernel)"
   ]
  },
  {
   "cell_type": "code",
   "execution_count": 20,
   "id": "ba249757",
   "metadata": {},
   "outputs": [
    {
     "data": {
      "text/plain": [
       "-1"
      ]
     },
     "execution_count": 20,
     "metadata": {},
     "output_type": "execute_result"
    }
   ],
   "source": [
    "cv2.imshow(\"original\",img)\n",
    "cv2.waitKey(0)\n",
    "cv2.imshow(\"Black Hat\",blackhat)\n",
    "cv2.waitKey(0)"
   ]
  },
  {
   "cell_type": "code",
   "execution_count": 21,
   "id": "c8341aee",
   "metadata": {},
   "outputs": [
    {
     "data": {
      "text/plain": [
       "-1"
      ]
     },
     "execution_count": 21,
     "metadata": {},
     "output_type": "execute_result"
    }
   ],
   "source": [
    "# Display Top Hat And Black Hat\n",
    "cv2.imshow(\"Top Hat\",tophat)\n",
    "cv2.waitKey(0)\n",
    "cv2.imshow(\"Black Hat\",blackhat)\n",
    "cv2.waitKey(0)"
   ]
  }
 ],
 "metadata": {
  "kernelspec": {
   "display_name": "Python 3 (ipykernel)",
   "language": "python",
   "name": "python3"
  },
  "language_info": {
   "codemirror_mode": {
    "name": "ipython",
    "version": 3
   },
   "file_extension": ".py",
   "mimetype": "text/x-python",
   "name": "python",
   "nbconvert_exporter": "python",
   "pygments_lexer": "ipython3",
   "version": "3.9.16"
  }
 },
 "nbformat": 4,
 "nbformat_minor": 5
}
