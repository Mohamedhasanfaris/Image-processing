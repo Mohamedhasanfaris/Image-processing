{
 "cells": [
  {
   "cell_type": "code",
   "execution_count": 1,
   "id": "bbf1c98b",
   "metadata": {},
   "outputs": [],
   "source": [
    "import cv2\n",
    "import numpy as np"
   ]
  },
  {
   "cell_type": "code",
   "execution_count": 2,
   "id": "21829f8b",
   "metadata": {},
   "outputs": [],
   "source": [
    "# Video read\n",
    "vid = cv2.VideoCapture(\"MHA.mp4\")"
   ]
  },
  {
   "cell_type": "code",
   "execution_count": 3,
   "id": "05ef33be",
   "metadata": {},
   "outputs": [],
   "source": [
    "# Displaying The Video\n",
    "while(vid.isOpened()):\n",
    "    ret,frame = vid.read()\n",
    "    cv2.imshow(\"deku\",frame)\n",
    "    if cv2.waitKey(1) & 0xFF == ord(\"q\"):\n",
    "        break\n",
    "\n",
    "vid.release()\n",
    "cv2.destroyAllWindows()"
   ]
  },
  {
   "cell_type": "markdown",
   "id": "a6db3e16",
   "metadata": {},
   "source": [
    "### Web Cam"
   ]
  },
  {
   "cell_type": "code",
   "execution_count": 4,
   "id": "cc94e212",
   "metadata": {},
   "outputs": [],
   "source": [
    "web = cv2.VideoCapture(0)"
   ]
  },
  {
   "cell_type": "code",
   "execution_count": 5,
   "id": "27ce8d7f",
   "metadata": {},
   "outputs": [],
   "source": [
    "while(web.isOpened()):\n",
    "    ret,frame = web.read()\n",
    "    cv2.imshow(\"web\",frame)\n",
    "    if cv2.waitKey(1) & 0xFF == ord(\"q\"):\n",
    "        break\n",
    "\n",
    "web.release()\n",
    "cv2.destroyAllWindows()"
   ]
  },
  {
   "cell_type": "code",
   "execution_count": null,
   "id": "dfa765ee",
   "metadata": {},
   "outputs": [],
   "source": []
  }
 ],
 "metadata": {
  "kernelspec": {
   "display_name": "Python 3 (ipykernel)",
   "language": "python",
   "name": "python3"
  },
  "language_info": {
   "codemirror_mode": {
    "name": "ipython",
    "version": 3
   },
   "file_extension": ".py",
   "mimetype": "text/x-python",
   "name": "python",
   "nbconvert_exporter": "python",
   "pygments_lexer": "ipython3",
   "version": "3.9.16"
  }
 },
 "nbformat": 4,
 "nbformat_minor": 5
}
