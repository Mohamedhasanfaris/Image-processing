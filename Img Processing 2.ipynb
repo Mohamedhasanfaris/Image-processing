{
 "cells": [
  {
   "cell_type": "code",
   "execution_count": 1,
   "id": "f8a1956f",
   "metadata": {},
   "outputs": [],
   "source": [
    "import cv2\n",
    "import numpy as np"
   ]
  },
  {
   "cell_type": "markdown",
   "id": "d81e8b7b",
   "metadata": {},
   "source": [
    "# Reading in image "
   ]
  },
  {
   "cell_type": "code",
   "execution_count": 2,
   "id": "30231524",
   "metadata": {},
   "outputs": [],
   "source": [
    "img = cv2.imread(\"ninja.png\")"
   ]
  },
  {
   "cell_type": "markdown",
   "id": "62520e59",
   "metadata": {},
   "source": [
    "# Shape of image"
   ]
  },
  {
   "cell_type": "code",
   "execution_count": 3,
   "id": "ad002c6d",
   "metadata": {},
   "outputs": [
    {
     "name": "stdout",
     "output_type": "stream",
     "text": [
      "(510, 620, 3)\n"
     ]
    }
   ],
   "source": [
    "print(img.shape)"
   ]
  },
  {
   "cell_type": "markdown",
   "id": "b4883a8b",
   "metadata": {},
   "source": [
    "# Resizing Image"
   ]
  },
  {
   "cell_type": "code",
   "execution_count": 4,
   "id": "1c9911ae",
   "metadata": {},
   "outputs": [],
   "source": [
    "img_res = cv2.resize(img,None,fx = 2,fy = 2,interpolation = cv2.INTER_LINEAR)"
   ]
  },
  {
   "cell_type": "markdown",
   "id": "9d7b5772",
   "metadata": {},
   "source": [
    "# Resizing Interpolation Methods\n",
    "\n",
    "  1.cv2.INTER_CUBIC                                               \n",
    "  2.cv2.INTER_AREA  "
   ]
  },
  {
   "cell_type": "code",
   "execution_count": 5,
   "id": "5cc980f5",
   "metadata": {},
   "outputs": [
    {
     "name": "stdout",
     "output_type": "stream",
     "text": [
      "(1020, 1240, 3)\n"
     ]
    }
   ],
   "source": [
    "print(img_res.shape)"
   ]
  },
  {
   "cell_type": "code",
   "execution_count": 6,
   "id": "e2b5cab6",
   "metadata": {},
   "outputs": [
    {
     "data": {
      "text/plain": [
       "-1"
      ]
     },
     "execution_count": 6,
     "metadata": {},
     "output_type": "execute_result"
    }
   ],
   "source": [
    "cv2.imshow(\"Original\",img)\n",
    "cv2.waitKey(0)\n",
    "cv2.imshow(\"Resized\",img_res)\n",
    "cv2.waitKey(0)"
   ]
  },
  {
   "cell_type": "markdown",
   "id": "283c4255",
   "metadata": {},
   "source": [
    "# Another Resizing Way"
   ]
  },
  {
   "cell_type": "code",
   "execution_count": 7,
   "id": "a1a6d01e",
   "metadata": {},
   "outputs": [],
   "source": [
    "img_res2 = cv2.resize(img,(510,320))"
   ]
  },
  {
   "cell_type": "code",
   "execution_count": 8,
   "id": "12233894",
   "metadata": {},
   "outputs": [
    {
     "data": {
      "text/plain": [
       "-1"
      ]
     },
     "execution_count": 8,
     "metadata": {},
     "output_type": "execute_result"
    }
   ],
   "source": [
    "cv2.imshow(\"Original\",img)\n",
    "cv2.waitKey(0)\n",
    "cv2.imshow(\"Resized2\",img_res2)\n",
    "cv2.waitKey(0)"
   ]
  },
  {
   "cell_type": "code",
   "execution_count": 9,
   "id": "03aa81c5",
   "metadata": {},
   "outputs": [
    {
     "data": {
      "text/plain": [
       "True"
      ]
     },
     "execution_count": 9,
     "metadata": {},
     "output_type": "execute_result"
    }
   ],
   "source": [
    "cv2.imwrite(\"C:/Users/aedpu/HASAN_CSE_AI/duplicate.png\",img_res2)"
   ]
  },
  {
   "cell_type": "markdown",
   "id": "ab16e5a0",
   "metadata": {},
   "source": [
    "# Image Smoothing - 2D Convolution\n",
    "\n",
    "\n",
    "### Kernal"
   ]
  },
  {
   "cell_type": "code",
   "execution_count": 10,
   "id": "996957b1",
   "metadata": {},
   "outputs": [],
   "source": [
    "kernal = np.ones((5,5),float)/25"
   ]
  },
  {
   "cell_type": "markdown",
   "id": "b5302e21",
   "metadata": {},
   "source": [
    "### 2D Filter"
   ]
  },
  {
   "cell_type": "code",
   "execution_count": 11,
   "id": "9727054c",
   "metadata": {},
   "outputs": [],
   "source": [
    "tdf = cv2.filter2D(img,-1,kernal)"
   ]
  },
  {
   "cell_type": "markdown",
   "id": "e4ac77a0",
   "metadata": {},
   "source": [
    "### 2D Filtering Display"
   ]
  },
  {
   "cell_type": "code",
   "execution_count": 12,
   "id": "5775d459",
   "metadata": {},
   "outputs": [
    {
     "data": {
      "text/plain": [
       "-1"
      ]
     },
     "execution_count": 12,
     "metadata": {},
     "output_type": "execute_result"
    }
   ],
   "source": [
    "cv2.imshow(\"Original\",img)\n",
    "cv2.waitKey(0)\n",
    "cv2.imshow(\"Blur\",tdf)\n",
    "cv2.waitKey(0)"
   ]
  },
  {
   "cell_type": "markdown",
   "id": "245d8b52",
   "metadata": {},
   "source": [
    "## Image blurring-Averaging"
   ]
  },
  {
   "cell_type": "code",
   "execution_count": 13,
   "id": "de8e59eb",
   "metadata": {},
   "outputs": [],
   "source": [
    "avg = cv2.blur(img,(10,10))"
   ]
  },
  {
   "cell_type": "code",
   "execution_count": 14,
   "id": "988637eb",
   "metadata": {},
   "outputs": [
    {
     "data": {
      "text/plain": [
       "-1"
      ]
     },
     "execution_count": 14,
     "metadata": {},
     "output_type": "execute_result"
    }
   ],
   "source": [
    "cv2.imshow(\"Original\",img)\n",
    "cv2.waitKey(0)\n",
    "cv2.imshow(\"Blur\",avg)\n",
    "cv2.waitKey(0)"
   ]
  },
  {
   "cell_type": "markdown",
   "id": "138e2c8d",
   "metadata": {},
   "source": [
    "## Gaussian Blur"
   ]
  },
  {
   "cell_type": "code",
   "execution_count": 15,
   "id": "a879c068",
   "metadata": {},
   "outputs": [],
   "source": [
    "gauss = cv2.GaussianBlur(img,(5,5),5)"
   ]
  },
  {
   "cell_type": "code",
   "execution_count": 16,
   "id": "4cdd30ca",
   "metadata": {},
   "outputs": [
    {
     "data": {
      "text/plain": [
       "-1"
      ]
     },
     "execution_count": 16,
     "metadata": {},
     "output_type": "execute_result"
    }
   ],
   "source": [
    "cv2.imshow(\"kurama\",img)\n",
    "cv2.waitKey(0)\n",
    "cv2.imshow(\"Blur\",gauss)\n",
    "cv2.waitKey(0)"
   ]
  },
  {
   "cell_type": "markdown",
   "id": "c5f0684c",
   "metadata": {},
   "source": [
    "## Median Filtering\n",
    "\n",
    "#### Number Below Only Odd Number "
   ]
  },
  {
   "cell_type": "code",
   "execution_count": 17,
   "id": "5ec06c75",
   "metadata": {},
   "outputs": [],
   "source": [
    "imgn= cv2.imread(\"noise  image.png\")"
   ]
  },
  {
   "cell_type": "code",
   "execution_count": 18,
   "id": "429ddb22",
   "metadata": {},
   "outputs": [],
   "source": [
    "imgt = cv2.imread(\"Taj.jpg\")"
   ]
  },
  {
   "cell_type": "code",
   "execution_count": 19,
   "id": "31344e29",
   "metadata": {},
   "outputs": [],
   "source": [
    "med = cv2.medianBlur(imgn,5)"
   ]
  },
  {
   "cell_type": "code",
   "execution_count": 20,
   "id": "88b43837",
   "metadata": {},
   "outputs": [
    {
     "data": {
      "text/plain": [
       "-1"
      ]
     },
     "execution_count": 20,
     "metadata": {},
     "output_type": "execute_result"
    }
   ],
   "source": [
    "cv2.imshow(\"Original\",imgn)\n",
    "cv2.waitKey(0)\n",
    "cv2.imshow(\"Blur median\",med)\n",
    "cv2.waitKey(0)"
   ]
  },
  {
   "cell_type": "markdown",
   "id": "0e56ee06",
   "metadata": {},
   "source": [
    "## Bilateral Filtering"
   ]
  },
  {
   "cell_type": "code",
   "execution_count": 21,
   "id": "7e31bce8",
   "metadata": {},
   "outputs": [],
   "source": [
    "bilat = cv2.bilateralFilter(imgt,100,100,100)"
   ]
  },
  {
   "cell_type": "code",
   "execution_count": 22,
   "id": "f709a631",
   "metadata": {},
   "outputs": [
    {
     "data": {
      "text/plain": [
       "-1"
      ]
     },
     "execution_count": 22,
     "metadata": {},
     "output_type": "execute_result"
    }
   ],
   "source": [
    "cv2.imshow(\"Original\",imgt)\n",
    "cv2.waitKey(0)\n",
    "cv2.imshow(\"Blur bilat\",bilat)\n",
    "cv2.waitKey(0)"
   ]
  },
  {
   "cell_type": "code",
   "execution_count": null,
   "id": "2ea063e6",
   "metadata": {},
   "outputs": [],
   "source": []
  }
 ],
 "metadata": {
  "kernelspec": {
   "display_name": "Python 3 (ipykernel)",
   "language": "python",
   "name": "python3"
  },
  "language_info": {
   "codemirror_mode": {
    "name": "ipython",
    "version": 3
   },
   "file_extension": ".py",
   "mimetype": "text/x-python",
   "name": "python",
   "nbconvert_exporter": "python",
   "pygments_lexer": "ipython3",
   "version": "3.9.16"
  }
 },
 "nbformat": 4,
 "nbformat_minor": 5
}
