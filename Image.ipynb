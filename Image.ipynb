{
 "cells": [
  {
   "cell_type": "code",
   "execution_count": 1,
   "id": "d398711a",
   "metadata": {},
   "outputs": [],
   "source": [
    "import cv2"
   ]
  },
  {
   "cell_type": "code",
   "execution_count": 2,
   "id": "5e4bba9f",
   "metadata": {},
   "outputs": [],
   "source": [
    "img=cv2.imread(\"download.jpg\")"
   ]
  },
  {
   "cell_type": "code",
   "execution_count": 3,
   "id": "f7286bf4",
   "metadata": {},
   "outputs": [],
   "source": [
    "grey=cv2.imread(\"download.jpg\",0)"
   ]
  },
  {
   "cell_type": "code",
   "execution_count": 4,
   "id": "9596ea09",
   "metadata": {},
   "outputs": [],
   "source": [
    "cv2.imshow(\"color\",img)\n",
    "cv2.imshow(\"grey\",grey)\n",
    "cv2.waitKey(0)\n",
    "cv2.destroyAllWindows()"
   ]
  },
  {
   "cell_type": "code",
   "execution_count": 5,
   "id": "9b0b5e1c",
   "metadata": {},
   "outputs": [
    {
     "data": {
      "text/plain": [
       "True"
      ]
     },
     "execution_count": 5,
     "metadata": {},
     "output_type": "execute_result"
    }
   ],
   "source": [
    "cv2.imwrite(\"C:/Users/SN131/AI_CSE/new.jpg\",img)"
   ]
  },
  {
   "cell_type": "markdown",
   "id": "e4ccbcab",
   "metadata": {},
   "source": [
    "# shape of an image"
   ]
  },
  {
   "cell_type": "code",
   "execution_count": 6,
   "id": "679f7ff8",
   "metadata": {},
   "outputs": [],
   "source": [
    "import numpy as np\n",
    "import cv2"
   ]
  },
  {
   "cell_type": "code",
   "execution_count": 7,
   "id": "fe9cea7e",
   "metadata": {},
   "outputs": [],
   "source": [
    "shp=img.shape"
   ]
  },
  {
   "cell_type": "code",
   "execution_count": 8,
   "id": "69e2495c",
   "metadata": {},
   "outputs": [
    {
     "name": "stdout",
     "output_type": "stream",
     "text": [
      "(1500, 1000, 3)\n"
     ]
    }
   ],
   "source": [
    "print(shp)"
   ]
  },
  {
   "cell_type": "markdown",
   "id": "2c4e3809",
   "metadata": {},
   "source": [
    "# size of an image"
   ]
  },
  {
   "cell_type": "code",
   "execution_count": 9,
   "id": "f28f0411",
   "metadata": {},
   "outputs": [],
   "source": [
    "sz=img.size"
   ]
  },
  {
   "cell_type": "code",
   "execution_count": 10,
   "id": "6027f4be",
   "metadata": {},
   "outputs": [
    {
     "name": "stdout",
     "output_type": "stream",
     "text": [
      "4500000\n"
     ]
    }
   ],
   "source": [
    "print(sz)"
   ]
  },
  {
   "cell_type": "markdown",
   "id": "d5dffbf6",
   "metadata": {},
   "source": [
    "# value of the pixel"
   ]
  },
  {
   "cell_type": "code",
   "execution_count": 11,
   "id": "7e0dc44c",
   "metadata": {},
   "outputs": [],
   "source": [
    "px=img[722,233]"
   ]
  },
  {
   "cell_type": "code",
   "execution_count": 12,
   "id": "50d0f8d9",
   "metadata": {},
   "outputs": [
    {
     "name": "stdout",
     "output_type": "stream",
     "text": [
      "[170 157 209]\n"
     ]
    }
   ],
   "source": [
    "print(px)"
   ]
  },
  {
   "cell_type": "markdown",
   "id": "d92cf358",
   "metadata": {},
   "source": [
    "# ROI (Region Of Intrest)"
   ]
  },
  {
   "cell_type": "code",
   "execution_count": 16,
   "id": "941802d3",
   "metadata": {},
   "outputs": [
    {
     "data": {
      "text/plain": [
       "array([], shape=(100, 0, 3), dtype=uint8)"
      ]
     },
     "execution_count": 16,
     "metadata": {},
     "output_type": "execute_result"
    }
   ],
   "source": [
    "roi = img[1:41,1:41]\n",
    "img[300:400,200:100]"
   ]
  },
  {
   "cell_type": "markdown",
   "id": "d6f55a42",
   "metadata": {},
   "source": [
    "# splitting an image"
   ]
  },
  {
   "cell_type": "code",
   "execution_count": 19,
   "id": "862cce26",
   "metadata": {},
   "outputs": [
    {
     "data": {
      "text/plain": [
       "-1"
      ]
     },
     "execution_count": 19,
     "metadata": {},
     "output_type": "execute_result"
    }
   ],
   "source": [
    "b,g,r = cv2.split(img)\n",
    "cv2.imshow(\"b\",b)\n",
    "cv2.waitKey(0)\n",
    "cv2.imshow(\"g\",g)\n",
    "cv2.waitKey(0)\n",
    "cv2.imshow(\"r\",r)\n",
    "cv2.waitKey(0)"
   ]
  },
  {
   "cell_type": "markdown",
   "id": "75c7e734",
   "metadata": {},
   "source": [
    "# merging an image"
   ]
  },
  {
   "cell_type": "code",
   "execution_count": 20,
   "id": "5620a61f",
   "metadata": {},
   "outputs": [],
   "source": [
    "mer = cv2.merge((r,g,b))\n",
    "cv2.imshow(\"merge\",mer)\n",
    "cv2.waitKey(0)\n",
    "cv2.destroyAllWindows()"
   ]
  },
  {
   "cell_type": "code",
   "execution_count": null,
   "id": "db7ea8b1",
   "metadata": {},
   "outputs": [],
   "source": []
  }
 ],
 "metadata": {
  "kernelspec": {
   "display_name": "Python 3 (ipykernel)",
   "language": "python",
   "name": "python3"
  },
  "language_info": {
   "codemirror_mode": {
    "name": "ipython",
    "version": 3
   },
   "file_extension": ".py",
   "mimetype": "text/x-python",
   "name": "python",
   "nbconvert_exporter": "python",
   "pygments_lexer": "ipython3",
   "version": "3.9.16"
  }
 },
 "nbformat": 4,
 "nbformat_minor": 5
}
