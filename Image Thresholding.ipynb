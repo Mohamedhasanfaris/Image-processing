{
 "cells": [
  {
   "cell_type": "markdown",
   "id": "6e1e7f23",
   "metadata": {},
   "source": [
    "## Image Thresholding"
   ]
  },
  {
   "cell_type": "code",
   "execution_count": 1,
   "id": "9af9f39d",
   "metadata": {},
   "outputs": [],
   "source": [
    "import cv2"
   ]
  },
  {
   "cell_type": "code",
   "execution_count": 2,
   "id": "eae40519",
   "metadata": {},
   "outputs": [],
   "source": [
    "img = cv2.imread('Goblin.png')"
   ]
  },
  {
   "cell_type": "code",
   "execution_count": 3,
   "id": "c855b187",
   "metadata": {},
   "outputs": [
    {
     "data": {
      "text/plain": [
       "-1"
      ]
     },
     "execution_count": 3,
     "metadata": {},
     "output_type": "execute_result"
    }
   ],
   "source": [
    "cv2.imshow('Original',img)\n",
    "cv2.waitKey(0)"
   ]
  },
  {
   "cell_type": "code",
   "execution_count": 4,
   "id": "eb205d47",
   "metadata": {},
   "outputs": [],
   "source": [
    "img_gray =cv2.cvtColor(img,cv2.COLOR_BGR2GRAY)"
   ]
  },
  {
   "cell_type": "code",
   "execution_count": 5,
   "id": "c47d1ec7",
   "metadata": {},
   "outputs": [
    {
     "data": {
      "text/plain": [
       "-1"
      ]
     },
     "execution_count": 5,
     "metadata": {},
     "output_type": "execute_result"
    }
   ],
   "source": [
    "cv2.imshow('Original',img)\n",
    "cv2.waitKey(0)\n",
    "cv2.imshow('gray',img_gray)\n",
    "cv2.waitKey(0)"
   ]
  },
  {
   "cell_type": "code",
   "execution_count": 6,
   "id": "3cef1a5c",
   "metadata": {},
   "outputs": [],
   "source": [
    "ret,thres1 = cv2.threshold(img_gray,15,150,cv2.THRESH_BINARY)\n",
    "ret,thres2 = cv2.threshold(img_gray,15,255,cv2.THRESH_BINARY_INV)\n",
    "ret,thres3 = cv2.threshold(img_gray,15,255,cv2.THRESH_TRUNC)\n",
    "ret,thres4 = cv2.threshold(img_gray,15,255,cv2.THRESH_TOZERO)\n",
    "ret,thres5 = cv2.threshold(img_gray,15,255,cv2.THRESH_TOZERO_INV)"
   ]
  },
  {
   "cell_type": "code",
   "execution_count": 8,
   "id": "8e3e378a",
   "metadata": {},
   "outputs": [
    {
     "data": {
      "text/plain": [
       "-1"
      ]
     },
     "execution_count": 8,
     "metadata": {},
     "output_type": "execute_result"
    }
   ],
   "source": [
    "cv2.imshow('gray img',img_gray)\n",
    "cv2.waitKey(0)\n",
    "cv2.imshow('binary',thres1)\n",
    "cv2.waitKey(0)\n",
    "cv2.imshow('binary_inverted',thres2)\n",
    "cv2.waitKey(0)\n",
    "cv2.imshow('truncated',thres3)\n",
    "cv2.waitKey(0)\n",
    "cv2.imshow('set to 0',thres4)\n",
    "cv2.waitKey(0)\n",
    "cv2.imshow('set to 0 inverted',thres5)\n",
    "cv2.waitKey(0)"
   ]
  },
  {
   "cell_type": "code",
   "execution_count": null,
   "id": "77f265ac",
   "metadata": {},
   "outputs": [],
   "source": []
  }
 ],
 "metadata": {
  "kernelspec": {
   "display_name": "Python 3 (ipykernel)",
   "language": "python",
   "name": "python3"
  },
  "language_info": {
   "codemirror_mode": {
    "name": "ipython",
    "version": 3
   },
   "file_extension": ".py",
   "mimetype": "text/x-python",
   "name": "python",
   "nbconvert_exporter": "python",
   "pygments_lexer": "ipython3",
   "version": "3.9.16"
  }
 },
 "nbformat": 4,
 "nbformat_minor": 5
}
