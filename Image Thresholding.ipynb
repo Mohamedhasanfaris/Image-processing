{
 "cells": [
  {
   "cell_type": "markdown",
   "id": "6e1e7f23",
   "metadata": {},
   "source": [
    "## Image Thresholding"
   ]
  },
  {
   "cell_type": "markdown",
   "id": "2aedc430",
   "metadata": {},
   "source": [
    "### Simple Thresholding"
   ]
  },
  {
   "cell_type": "code",
   "execution_count": 1,
   "id": "9af9f39d",
   "metadata": {},
   "outputs": [],
   "source": [
    "import cv2"
   ]
  },
  {
   "cell_type": "code",
   "execution_count": 2,
   "id": "eae40519",
   "metadata": {},
   "outputs": [],
   "source": [
    "img = cv2.imread('Text.jpg')"
   ]
  },
  {
   "cell_type": "code",
   "execution_count": 3,
   "id": "eb205d47",
   "metadata": {},
   "outputs": [],
   "source": [
    "img_gray =cv2.cvtColor(img,cv2.COLOR_BGR2GRAY)"
   ]
  },
  {
   "cell_type": "code",
   "execution_count": 4,
   "id": "c47d1ec7",
   "metadata": {},
   "outputs": [
    {
     "data": {
      "text/plain": [
       "-1"
      ]
     },
     "execution_count": 4,
     "metadata": {},
     "output_type": "execute_result"
    }
   ],
   "source": [
    "cv2.imshow('Original',img)\n",
    "cv2.waitKey(0)\n",
    "cv2.imshow('gray',img_gray)\n",
    "cv2.waitKey(0)"
   ]
  },
  {
   "cell_type": "code",
   "execution_count": 5,
   "id": "3cef1a5c",
   "metadata": {},
   "outputs": [],
   "source": [
    "ret,thres1 = cv2.threshold(img_gray,15,150,cv2.THRESH_BINARY)\n",
    "ret,thres2 = cv2.threshold(img_gray,15,255,cv2.THRESH_BINARY_INV)\n",
    "ret,thres3 = cv2.threshold(img_gray,15,255,cv2.THRESH_TRUNC)\n",
    "ret,thres4 = cv2.threshold(img_gray,15,255,cv2.THRESH_TOZERO)\n",
    "ret,thres5 = cv2.threshold(img_gray,15,255,cv2.THRESH_TOZERO_INV)"
   ]
  },
  {
   "cell_type": "code",
   "execution_count": 6,
   "id": "8e3e378a",
   "metadata": {},
   "outputs": [
    {
     "data": {
      "text/plain": [
       "-1"
      ]
     },
     "execution_count": 6,
     "metadata": {},
     "output_type": "execute_result"
    }
   ],
   "source": [
    "cv2.imshow('gray img',img_gray)\n",
    "cv2.waitKey(0)\n",
    "cv2.imshow('binary',thres1)\n",
    "cv2.waitKey(0)\n",
    "cv2.imshow('binary_inverted',thres2)\n",
    "cv2.waitKey(0)\n",
    "cv2.imshow('truncated',thres3)\n",
    "cv2.waitKey(0)\n",
    "cv2.imshow('set to 0',thres4)\n",
    "cv2.waitKey(0)\n",
    "cv2.imshow('set to 0 inverted',thres5)\n",
    "cv2.waitKey(0)"
   ]
  },
  {
   "cell_type": "markdown",
   "id": "d1752f0e",
   "metadata": {},
   "source": [
    "### Image Thresholding - Adaptive"
   ]
  },
  {
   "cell_type": "code",
   "execution_count": 7,
   "id": "63a17c7a",
   "metadata": {},
   "outputs": [],
   "source": [
    "ret,th1 = cv2.threshold(img_gray,15,150,cv2.THRESH_BINARY)\n",
    "adpt1 = cv2.adaptiveThreshold(img_gray,255,cv2.ADAPTIVE_THRESH_MEAN_C,cv2.THRESH_BINARY,11,4)\n",
    "adpt2 = cv2.adaptiveThreshold(img_gray,255,cv2.ADAPTIVE_THRESH_GAUSSIAN_C,cv2.THRESH_BINARY,11,4) "
   ]
  },
  {
   "cell_type": "code",
   "execution_count": 8,
   "id": "a80c8c90",
   "metadata": {},
   "outputs": [
    {
     "data": {
      "text/plain": [
       "-1"
      ]
     },
     "execution_count": 8,
     "metadata": {},
     "output_type": "execute_result"
    }
   ],
   "source": [
    "cv2.imshow('Simple Thres',th1)\n",
    "cv2.waitKey(0)\n",
    "cv2.imshow('Adaptive Mean',adpt1)\n",
    "cv2.waitKey(0)\n",
    "cv2.imshow('Adaptive Gaussian',adpt2)\n",
    "cv2.waitKey(0)"
   ]
  },
  {
   "cell_type": "code",
   "execution_count": 9,
   "id": "3a2bca8c",
   "metadata": {},
   "outputs": [
    {
     "data": {
      "text/plain": [
       "True"
      ]
     },
     "execution_count": 9,
     "metadata": {},
     "output_type": "execute_result"
    }
   ],
   "source": [
    "cv2.imwrite(\"C:/Users/aedpu/HASAN_CSE_AI/used img/simple thres.jpg\",th1)\n",
    "cv2.imwrite(\"C:/Users/aedpu/HASAN_CSE_AI/used img/Adaptive Mean thres.jpg\",adpt1)\n",
    "cv2.imwrite(\"C:/Users/aedpu/HASAN_CSE_AI/used img/Adaptive Gassu thres.jpg\",adpt2)"
   ]
  },
  {
   "cell_type": "code",
   "execution_count": 10,
   "id": "7119191d",
   "metadata": {},
   "outputs": [],
   "source": [
    "ig = cv2.imread('Goblin.png')\n",
    "igray =cv2.cvtColor(ig,cv2.COLOR_BGR2GRAY)"
   ]
  },
  {
   "cell_type": "code",
   "execution_count": 11,
   "id": "6390892c",
   "metadata": {},
   "outputs": [
    {
     "data": {
      "text/plain": [
       "-1"
      ]
     },
     "execution_count": 11,
     "metadata": {},
     "output_type": "execute_result"
    }
   ],
   "source": [
    "cv2.imshow('Original',ig)\n",
    "cv2.waitKey(0)\n",
    "cv2.imshow('gray',igray)\n",
    "cv2.waitKey(0)"
   ]
  },
  {
   "cell_type": "code",
   "execution_count": 12,
   "id": "b46d0907",
   "metadata": {},
   "outputs": [],
   "source": [
    "ret,th2 = cv2.threshold(igray,15,150,cv2.THRESH_BINARY)\n",
    "adpt3 = cv2.adaptiveThreshold(igray,255,cv2.ADAPTIVE_THRESH_MEAN_C,cv2.THRESH_BINARY,11,4)\n",
    "adpt4 = cv2.adaptiveThreshold(igray,255,cv2.ADAPTIVE_THRESH_GAUSSIAN_C,cv2.THRESH_BINARY,11,4) "
   ]
  },
  {
   "cell_type": "code",
   "execution_count": 13,
   "id": "385a4abf",
   "metadata": {},
   "outputs": [
    {
     "data": {
      "text/plain": [
       "-1"
      ]
     },
     "execution_count": 13,
     "metadata": {},
     "output_type": "execute_result"
    }
   ],
   "source": [
    "cv2.imshow('Simple Thres',th2)\n",
    "cv2.waitKey(0)\n",
    "cv2.imshow('Adaptive Mean',adpt3)\n",
    "cv2.waitKey(0)\n",
    "cv2.imshow('Adaptive Gaussian',adpt4)\n",
    "cv2.waitKey(0)"
   ]
  },
  {
   "cell_type": "code",
   "execution_count": 14,
   "id": "1f2d0544",
   "metadata": {},
   "outputs": [
    {
     "data": {
      "text/plain": [
       "True"
      ]
     },
     "execution_count": 14,
     "metadata": {},
     "output_type": "execute_result"
    }
   ],
   "source": [
    "cv2.imwrite(\"C:/Users/aedpu/HASAN_CSE_AI/used img/simple thres2.jpg\",th2)\n",
    "cv2.imwrite(\"C:/Users/aedpu/HASAN_CSE_AI/used img/Adaptive Mean thres3.jpg\",adpt3)\n",
    "cv2.imwrite(\"C:/Users/aedpu/HASAN_CSE_AI/used img/Adaptive Gassu thres4.jpg\",adpt4)"
   ]
  },
  {
   "cell_type": "markdown",
   "id": "c62605e7",
   "metadata": {},
   "source": [
    "### OTSU Thresholding"
   ]
  },
  {
   "cell_type": "code",
   "execution_count": 15,
   "id": "272bf260",
   "metadata": {},
   "outputs": [],
   "source": [
    "ret,otsu = cv2.threshold(igray,0,255,cv2.THRESH_TOZERO+cv2.THRESH_OTSU)"
   ]
  },
  {
   "cell_type": "code",
   "execution_count": 16,
   "id": "d6440ab5",
   "metadata": {},
   "outputs": [
    {
     "data": {
      "text/plain": [
       "-1"
      ]
     },
     "execution_count": 16,
     "metadata": {},
     "output_type": "execute_result"
    }
   ],
   "source": [
    "cv2.imshow('img',igray)\n",
    "cv2.waitKey(0)\n",
    "cv2.imshow('otsusuki',otsu)\n",
    "cv2.waitKey(0)"
   ]
  },
  {
   "cell_type": "code",
   "execution_count": 17,
   "id": "03b6d1b3",
   "metadata": {},
   "outputs": [
    {
     "data": {
      "text/plain": [
       "True"
      ]
     },
     "execution_count": 17,
     "metadata": {},
     "output_type": "execute_result"
    }
   ],
   "source": [
    "cv2.imwrite(\"C:/Users/aedpu/HASAN_CSE_AI/used img/Otsusuki.jpg\",otsu)"
   ]
  },
  {
   "cell_type": "code",
   "execution_count": null,
   "id": "4676c4b5",
   "metadata": {},
   "outputs": [],
   "source": []
  }
 ],
 "metadata": {
  "kernelspec": {
   "display_name": "Python 3 (ipykernel)",
   "language": "python",
   "name": "python3"
  },
  "language_info": {
   "codemirror_mode": {
    "name": "ipython",
    "version": 3
   },
   "file_extension": ".py",
   "mimetype": "text/x-python",
   "name": "python",
   "nbconvert_exporter": "python",
   "pygments_lexer": "ipython3",
   "version": "3.9.16"
  }
 },
 "nbformat": 4,
 "nbformat_minor": 5
}
