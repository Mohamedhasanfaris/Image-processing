{
 "cells": [
  {
   "cell_type": "markdown",
   "id": "1da161f7",
   "metadata": {},
   "source": [
    "# Rotation"
   ]
  },
  {
   "cell_type": "code",
   "execution_count": 1,
   "id": "2e73fe37",
   "metadata": {},
   "outputs": [],
   "source": [
    "import cv2\n",
    "import numpy as np"
   ]
  },
  {
   "cell_type": "code",
   "execution_count": 2,
   "id": "fa85272f",
   "metadata": {},
   "outputs": [],
   "source": [
    "img = cv2.imread(\"Vinland.jpg\")"
   ]
  },
  {
   "cell_type": "code",
   "execution_count": 3,
   "id": "4e260576",
   "metadata": {},
   "outputs": [
    {
     "data": {
      "text/plain": [
       "-1"
      ]
     },
     "execution_count": 3,
     "metadata": {},
     "output_type": "execute_result"
    }
   ],
   "source": [
    "cv2.imshow(\"VN\",img)\n",
    "cv2.waitKey(0)"
   ]
  },
  {
   "cell_type": "code",
   "execution_count": 4,
   "id": "fa60d26e",
   "metadata": {},
   "outputs": [
    {
     "name": "stdout",
     "output_type": "stream",
     "text": [
      "(691, 1283, 3)\n",
      "691\n",
      "1283\n"
     ]
    }
   ],
   "source": [
    "shap=img.shape\n",
    "print(shap)\n",
    "height,width=img.shape[:2]\n",
    "print(height)\n",
    "print(width)"
   ]
  },
  {
   "cell_type": "code",
   "execution_count": 5,
   "id": "b0472bfa",
   "metadata": {},
   "outputs": [
    {
     "name": "stdout",
     "output_type": "stream",
     "text": [
      "(345.5, 641.5)\n"
     ]
    }
   ],
   "source": [
    "#Get the center of the image\n",
    "center = (height/2,width/2)\n",
    "print(center)"
   ]
  },
  {
   "cell_type": "code",
   "execution_count": 6,
   "id": "90026595",
   "metadata": {},
   "outputs": [
    {
     "name": "stdout",
     "output_type": "stream",
     "text": [
      "[[ 3.53553391e-01  3.53553391e-01 -3.45719652e+00]\n",
      " [-3.53553391e-01  3.53553391e-01  5.36848196e+02]]\n"
     ]
    }
   ],
   "source": [
    "# using cv2.getRotationMatrix2D to get the rotation matrix\n",
    "rotation_matrix = cv2.getRotationMatrix2D(center=center,angle=45,scale=0.5)\n",
    "print(rotation_matrix)"
   ]
  },
  {
   "cell_type": "code",
   "execution_count": 7,
   "id": "03709a98",
   "metadata": {},
   "outputs": [
    {
     "data": {
      "text/plain": [
       "-1"
      ]
     },
     "execution_count": 7,
     "metadata": {},
     "output_type": "execute_result"
    }
   ],
   "source": [
    "# rotation the image using warpAffine\n",
    "rotated_img = cv2.warpAffine(src=img, M=rotation_matrix, dsize=(width,height))\n",
    "\n",
    "cv2.imshow('Original',img)\n",
    "cv2.waitKey(0)\n",
    "cv2.imshow('Rotated',rotated_img)\n",
    "cv2.waitKey(0)"
   ]
  },
  {
   "cell_type": "markdown",
   "id": "7c50b025",
   "metadata": {},
   "source": [
    "# Translation"
   ]
  },
  {
   "cell_type": "code",
   "execution_count": 8,
   "id": "993bba9c",
   "metadata": {},
   "outputs": [],
   "source": [
    "tx,ty = width/100,height/100"
   ]
  },
  {
   "cell_type": "code",
   "execution_count": 18,
   "id": "8f308059",
   "metadata": {},
   "outputs": [],
   "source": [
    "# create the translation matrix using tx and ty ,it is a Numpy array\n",
    "translation_matrix = np.array([[1,0,tx],[0,1,ty]])"
   ]
  },
  {
   "cell_type": "code",
   "execution_count": 19,
   "id": "2a89f7b1",
   "metadata": {},
   "outputs": [],
   "source": [
    "# apply the translation to the image\n",
    "translated_img = cv2.warpAffine(src=img, M=translation_matrix, dsize=(width,height))"
   ]
  },
  {
   "cell_type": "code",
   "execution_count": 20,
   "id": "fafe5dcf",
   "metadata": {},
   "outputs": [
    {
     "data": {
      "text/plain": [
       "-1"
      ]
     },
     "execution_count": 20,
     "metadata": {},
     "output_type": "execute_result"
    }
   ],
   "source": [
    "cv2.imshow('Trans',translated_img)\n",
    "cv2.waitKey(0)"
   ]
  },
  {
   "cell_type": "code",
   "execution_count": null,
   "id": "de6b5f17",
   "metadata": {},
   "outputs": [],
   "source": []
  }
 ],
 "metadata": {
  "kernelspec": {
   "display_name": "Python 3 (ipykernel)",
   "language": "python",
   "name": "python3"
  },
  "language_info": {
   "codemirror_mode": {
    "name": "ipython",
    "version": 3
   },
   "file_extension": ".py",
   "mimetype": "text/x-python",
   "name": "python",
   "nbconvert_exporter": "python",
   "pygments_lexer": "ipython3",
   "version": "3.9.16"
  }
 },
 "nbformat": 4,
 "nbformat_minor": 5
}
